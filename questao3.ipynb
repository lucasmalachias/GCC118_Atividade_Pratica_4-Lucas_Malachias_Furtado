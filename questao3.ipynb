{
  "nbformat": 4,
  "nbformat_minor": 0,
  "metadata": {
    "colab": {
      "provenance": []
    },
    "kernelspec": {
      "name": "python3",
      "display_name": "Python 3"
    },
    "language_info": {
      "name": "python"
    }
  },
  "cells": [
    {
      "cell_type": "markdown",
      "source": [
        "# GCC118 - Programação Matemática\n",
        "## Universidade Federal de Lavras\n",
        "### Instituto de Ciências Exatas e Tecnológicas\n",
        "#### Profa. Andreza C. Beezão Moreira (DMM/UFLA)\n",
        "#### Prof. Mayron César O. Moreira (DCC/UFLA)\n",
        "#### Aluno Lucas Malachias Furtado"
      ],
      "metadata": {
        "id": "wZZr7V9F6VdR"
      }
    },
    {
      "cell_type": "markdown",
      "source": [
        "---\n",
        "\n",
        "## Implementação do Problema 1: Maximizar o Valor Esperado do Prêmio\n",
        "\n",
        "### Inputs e Estados\n",
        "- **N:** Número de perguntas no jogo.\n",
        "- **V:** Lista com os valores monetários associados a cada pergunta.\n",
        "- **P:** Probabilidades de responder corretamente cada pergunta (baseadas no modelo empírico).\n",
        "- **S:** Estado atual do jogador (número da pergunta, lifelines restantes).\n",
        "\n",
        "A função objetivo é maximizar o valor esperado acumulado.\n",
        "\n",
        "---"
      ],
      "metadata": {
        "id": "XYHovA_y6eYA"
      }
    },
    {
      "cell_type": "code",
      "execution_count": 2,
      "metadata": {
        "colab": {
          "base_uri": "https://localhost:8080/"
        },
        "id": "cYpTzpl350nq",
        "outputId": "e10ffb55-dc5a-45bf-dffd-48216cbd7847"
      },
      "outputs": [
        {
          "output_type": "stream",
          "name": "stdout",
          "text": [
            "Valor esperado máximo acumulado:  108900.0\n"
          ]
        }
      ],
      "source": [
        "import numpy as np\n",
        "\n",
        "# Parâmetros do jogo\n",
        "N = 15  # Número total de perguntas\n",
        "values = [150, 300, 450, 900, 1800, 2100, 2700, 3600, 4500, 9000, 18000, 36000, 72000, 144000, 300000]  # Valores das perguntas\n",
        "probabilities = [0.99, 0.95, 0.92, 0.85, 0.8, 0.75, 0.7, 0.65, 0.6, 0.55, 0.5, 0.45, 0.4, 0.35, 0.3]  # Probabilidades de sucesso\n",
        "\n",
        "# Matriz de valores esperados\n",
        "DP = np.zeros(N + 1)\n",
        "\n",
        "# Programação dinâmica para calcular o valor esperado\n",
        "for k in range(N - 1, -1, -1):\n",
        "    # Decisões: parar ou continuar\n",
        "    stop_value = DP[k + 1]  # Valor esperado ao continuar\n",
        "    continue_value = probabilities[k] * values[k] + (1 - probabilities[k]) * DP[k + 1]\n",
        "\n",
        "    DP[k] = max(stop_value, continue_value)\n",
        "\n",
        "print(\"Valor esperado máximo acumulado: \", DP[0])"
      ]
    },
    {
      "cell_type": "markdown",
      "source": [
        "---\n",
        "\n",
        "## Implementação do Problema 2: Maximizar a Probabilidade de Atingir uma Pergunta\n",
        "\n",
        "### Inputs e Estados\n",
        "- **N:** Número de perguntas no jogo.\n",
        "- **T:** A pergunta alvo que o jogador deseja responder corretamente.\n",
        "- **P:** Probabilidades de responder corretamente cada pergunta.\n",
        "- **S:** Estado atual do jogador (número da pergunta, lifelines restantes).\n",
        "\n",
        "A função objetivo é maximizar a probabilidade de atingir a pergunta alvo corretamente.\n",
        "\n",
        "---"
      ],
      "metadata": {
        "id": "9eg9VTM26sEN"
      }
    },
    {
      "cell_type": "code",
      "source": [
        "# Parâmetros para maximizar a probabilidade de sucesso\n",
        "T = 10  # Pergunta alvo (por exemplo, a 10ª)\n",
        "\n",
        "# Matriz de probabilidades de sucesso\n",
        "# Prob[k] é a probabilidade de atingir a T-ésima pergunta com sucesso\n",
        "Prob = np.zeros(N + 1)\n",
        "Prob[T] = 1  # Probabilidade de sucesso garantida ao atingir T\n",
        "\n",
        "# Programação dinâmica para calcular a probabilidade de sucesso\n",
        "for k in range(T - 1, -1, -1):\n",
        "    # Decisões: parar ou continuar\n",
        "    stop_prob = Prob[k + 1]  # Probabilidade ao continuar\n",
        "    continue_prob = probabilities[k] * Prob[k + 1]\n",
        "\n",
        "    Prob[k] = max(stop_prob, continue_prob)\n",
        "\n",
        "print(\"Probabilidade de sucesso ao atingir a pergunta alvo: \", Prob[0])"
      ],
      "metadata": {
        "colab": {
          "base_uri": "https://localhost:8080/"
        },
        "id": "YT6mjqXg63HQ",
        "outputId": "97ec355a-fe30-4ae2-f39c-7ef67b6c02ca"
      },
      "execution_count": 3,
      "outputs": [
        {
          "output_type": "stream",
          "name": "stdout",
          "text": [
            "Probabilidade de sucesso ao atingir a pergunta alvo:  1.0\n"
          ]
        }
      ]
    }
  ]
}